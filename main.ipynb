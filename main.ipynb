{
 "cells": [
  {
   "cell_type": "code",
   "execution_count": null,
   "metadata": {
    "vscode": {
     "languageId": "shellscript"
    }
   },
   "outputs": [],
   "source": [
    "# For use in Colab for installing relevant metric packages.\n",
    "!pip install git+https://github.com/google-research/bleurt.git\n",
    "!pip install evaluate"
   ]
  },
  {
   "cell_type": "code",
   "execution_count": 1,
   "metadata": {},
   "outputs": [],
   "source": [
    "import pandas as pd\n",
    "import numpy as np\n",
    "# import tensorflow as tf\n",
    "import matplotlib.pyplot as plt\n",
    "\n",
    "from collections import defaultdict\n",
    "from tqdm import tqdm\n",
    "from itertools import combinations\n",
    "# from evaluate import load\n",
    "# from transformers import pipeline, Conversation"
   ]
  },
  {
   "cell_type": "code",
   "execution_count": 8,
   "metadata": {},
   "outputs": [
    {
     "name": "stdout",
     "output_type": "stream",
     "text": [
      "Filtered out 3 sentences with no descriptor.\n",
      "Number of input prompts:  398\n"
     ]
    }
   ],
   "source": [
    "# Read data.\n",
    "data = pd.read_csv('/home/brian/github/generative-text-model-fairness/holistic_bias/dataset/v1.0-reduced/sentences.csv')\n",
    "\n",
    "# Drop columns with missing data.\n",
    "# data = data.dropna(subset=['text', 'axis'])\n",
    "\n",
    "# Remove unnecessary columns.\n",
    "# reduced_sentences = sentences[['text', 'axis', 'descriptor', 'template']]\n",
    "# print(reduced_sentences['text'][0])\n",
    "\n",
    "# Convert to numpy array.\n",
    "sentences = data.to_numpy()\n",
    "\n",
    "# Define constants.\n",
    "TEXT_INDEX = 0\n",
    "AXIS_INDEX = 1\n",
    "DESCRIPTOR_INDEX = 3\n",
    "DESCRIPTOR_GENDER_INDEX = 4\n",
    "NOUN_PHRASE_TYPE_INDEX = 11\n",
    "TEMPLATE_INDEX = 12\n",
    "\n",
    "# Filter out sentences that don't have a descriptor.\n",
    "filtered_sentences = [\n",
    "  sentence\n",
    "  for sentence in sentences\n",
    "  if (\n",
    "    sentence[NOUN_PHRASE_TYPE_INDEX]\n",
    "    in [\n",
    "      'descriptor_noun',\n",
    "      'noun_descriptor',\n",
    "    ]\n",
    "    and sentence[DESCRIPTOR_GENDER_INDEX] == '(none)'\n",
    "  )\n",
    "]\n",
    "print(\"Filtered out\", len(sentences) - len(filtered_sentences), \"sentences with no descriptor.\")\n",
    "\n",
    "inputs = filtered_sentences\n",
    "print(\"Number of input prompts: \", len(inputs) - 1)"
   ]
  },
  {
   "cell_type": "code",
   "execution_count": 5,
   "metadata": {},
   "outputs": [],
   "source": [
    "# Constants\n",
    "MODEL = 'dialogpt'"
   ]
  },
  {
   "cell_type": "code",
   "execution_count": null,
   "metadata": {},
   "outputs": [],
   "source": [
    "# Load model pipelines.\n",
    "# gpt2_generator = pipeline('text-generation', model='gpt2-large', max_new_tokens=10)\n",
    "# dialogpt_generator = pipeline(model='microsoft/DialoGPT-medium')\n",
    "# blenderbot_generator = pipeline(model='facebook/blenderbot_small-90M')"
   ]
  },
  {
   "cell_type": "code",
   "execution_count": null,
   "metadata": {},
   "outputs": [],
   "source": [
    "# Load metrics.\n",
    "# perplexity = load('perplexity', module_type='metric')\n",
    "# bleurt = load(\"bleurt\", module_type=\"metric\", checkpoint='BLEURT-20')"
   ]
  },
  {
   "cell_type": "code",
   "execution_count": null,
   "metadata": {},
   "outputs": [],
   "source": [
    "\"\"\"\n",
    "Gets output from specified model using input prompt.\n",
    "Model can be one of 'gpt2', 'dialogpt' or 'blenderbot'.\n",
    "\"\"\"\n",
    "def get_output(model, text):\n",
    "  # if model == 'gpt2':\n",
    "  #   return gpt2_generator(text)[0][\"generated_text\"]\n",
    "  # elif model == 'dialogpt':\n",
    "  #   conversation = Conversation(text)\n",
    "  #   conversation = dialogpt_generator(conversation)\n",
    "  #   return conversation.messages[-1][\"content\"]\n",
    "  # elif model == 'blenderbot':\n",
    "  #   conversation = Conversation(text)\n",
    "  #   conversation = blenderbot_generator(conversation)\n",
    "  #   return conversation.messages[-1][\"content\"]\n",
    "  raise ValueError(\"Unsupported model: \", model)"
   ]
  },
  {
   "cell_type": "code",
   "execution_count": 6,
   "metadata": {},
   "outputs": [],
   "source": [
    "\"\"\"\n",
    "Normalizes an array of values between 0 and 1.\n",
    "\"\"\"\n",
    "def normalize(vals):\n",
    "  return [(vals - min(vals)) / (max(vals) - min(vals)) for val in vals]"
   ]
  },
  {
   "cell_type": "code",
   "execution_count": null,
   "metadata": {},
   "outputs": [],
   "source": [
    "# Generate outputs for each input prompt.\n",
    "with open('/home/brian/github/generative-text-model-fairness/results/'+MODEL+'-outputs.csv', 'w') as f:\n",
    "  f.write(f'{\"axis\"},{\"template\"},{\"descriptor\"},{\"input\"},{\"output\"}\\n')\n",
    "  for input in tqdm(inputs):\n",
    "    text = input[TEXT_INDEX]\n",
    "    output = get_output(MODEL, text)\n",
    "    output = \" \".join(output.split())\n",
    "    f.write(f'{input[AXIS_INDEX]},{input[TEMPLATE_INDEX]},{input[DESCRIPTOR_INDEX]},{text},{output}\\n')"
   ]
  },
  {
   "cell_type": "markdown",
   "metadata": {},
   "source": [
    "# End of generating outputs"
   ]
  },
  {
   "cell_type": "code",
   "execution_count": 9,
   "metadata": {},
   "outputs": [],
   "source": [
    "# Read in input-output pairs.\n",
    "outputs = pd.read_csv('/home/brian/github/generative-text-model-fairness/results/'+MODEL+'-outputs.csv')\n",
    "input_text = []\n",
    "output_text = []\n",
    "for output in outputs.to_numpy():\n",
    "  input_text.append(output[3])\n",
    "  output_text.append(output[4])\n",
    "\n",
    "if len(input_text) != len(output_text):\n",
    "  raise ValueError('Unequal input-output lengths: inputs (', len(input_text),\n",
    "                   '), outputs (', len(output_text), ')')"
   ]
  },
  {
   "cell_type": "code",
   "execution_count": null,
   "metadata": {},
   "outputs": [],
   "source": [
    "# Calculate perplexities of inputs and outputs.\n",
    "# input_ppls = perplexity.compute(predictions=input_text, model_id='gpt2')[\"perplexities\"]\n",
    "# output_ppls = perplexity.compute(predictions=output_text, model_id='gpt2')[\"perplexities\"]"
   ]
  },
  {
   "cell_type": "code",
   "execution_count": null,
   "metadata": {},
   "outputs": [],
   "source": [
    "# Ensure lengths of arrays are the same.\n",
    "if (len(input_text) != len(input_ppls) and\n",
    "len(input_ppls) != len(output_ppls)):\n",
    "  raise ValueError('Unequal input-output-perplexity lengths: inputs (', len(input_text),\n",
    "                   '), outputs (', len(output_text), '), input_ppls (', len(input_ppls),\n",
    "                   '), output_ppls (', len(output_ppls), ')')\n",
    "\n",
    "# Append input and output perplexities to file.\n",
    "df = pd.read_csv('/home/brian/github/generative-text-model-fairness/results/'+MODEL+'-outputs.csv')\n",
    "df['input_ppl'] = input_ppls\n",
    "df['output_ppl'] = output_ppls\n",
    "df.to_csv('/home/brian/github/generative-text-model-fairness/results/'+MODEL+'-perplexities.csv', index=False)"
   ]
  },
  {
   "cell_type": "markdown",
   "metadata": {},
   "source": [
    "# End of calculating perplexities"
   ]
  },
  {
   "cell_type": "code",
   "execution_count": 18,
   "metadata": {},
   "outputs": [
    {
     "name": "stdout",
     "output_type": "stream",
     "text": [
      "198.3544769287109\n"
     ]
    }
   ],
   "source": [
    "df = pd.read_csv('/home/brian/github/generative-text-model-fairness/results/'+MODEL+'-perplexities.csv')\n",
    "\n",
    "# Normalize perplexities per template.\n",
    "# normalized_input_ppls = normalize(df['input_ppl'].to_numpy())\n",
    "# normalized_output_ppls = normalize(df['output_ppl'].to_numpy())\n",
    "input_ppls = df['input_ppl'].to_numpy()\n",
    "output_ppls = df['output_ppl'].to_numpy()\n",
    "print(input_ppls[0])\n",
    "\n",
    "# Perplexity dict indexed by axis, template, and descriptor.\n",
    "perplexities = defaultdict(\n",
    "            lambda: defaultdict(lambda: defaultdict(list))\n",
    "        )\n",
    "for i, input in enumerate(inputs):\n",
    "  # Add perplexities to dict.\n",
    "  axis = input[AXIS_INDEX]\n",
    "  descriptor = input[DESCRIPTOR_INDEX]\n",
    "  template = input[TEMPLATE_INDEX]\n",
    "  perplexities[axis][template][descriptor].append((input_ppls[i], output_ppls[i]))\n",
    "\n",
    "# # Print perplexities.\n",
    "# for axis in perplexities:\n",
    "#   for template in perplexities[axis]:\n",
    "#     for descriptor in perplexities[axis][template]:\n",
    "#       input_ppl, output_ppl = perplexities[axis][template][descriptor]\n",
    "#       print(axis, template, descriptor, input_ppl, output_ppl)\n",
    "\n",
    "\n",
    "# Median perplexities per axis, template, and descriptor.\n",
    "median_perplexities = defaultdict(\n",
    "            lambda: defaultdict(lambda: defaultdict(list))\n",
    "        )\n",
    "for axis in perplexities:\n",
    "  for template in perplexities[axis]:\n",
    "    for descriptor in perplexities[axis][template]:\n",
    "      input_ppls, output_ppls = zip(*perplexities[axis][template][descriptor])\n",
    "      median_perplexities[axis][template][descriptor] = (np.median(input_ppls), np.median(output_ppls))\n",
    "\n",
    "# Print median perplexities.\n",
    "with open('/home/brian/github/generative-text-model-fairness/results/'+MODEL+'-median-perplexities.csv', 'w') as f:\n",
    "  f.write(f'{\"axis\"},{\"template\"},{\"descriptor\"},{\"median_input_ppl\"},{\"median_output_ppl\"}\\n')\n",
    "  for axis in median_perplexities:\n",
    "    for template in median_perplexities[axis]:\n",
    "      for descriptor in median_perplexities[axis][template]:\n",
    "        input_ppl, output_ppl = median_perplexities[axis][template][descriptor]\n",
    "        f.write(f'{axis},{template},{descriptor},{input_ppl},{output_ppl}\\n')"
   ]
  },
  {
   "cell_type": "markdown",
   "metadata": {},
   "source": [
    "# End of getting median perplexities"
   ]
  },
  {
   "cell_type": "code",
   "execution_count": 24,
   "metadata": {},
   "outputs": [],
   "source": [
    "with open('/home/brian/github/generative-text-model-fairness/results/'+MODEL+'-distances.csv', 'w') as f:\n",
    "  f.write(f'{\"axis\"},{\"template\"},{\"descriptor1\"},{\"descriptor2\"},{\"input_distance\"},{\"output_distance\"}\\n')\n",
    "  \n",
    "  for axis in median_perplexities:\n",
    "    for template in median_perplexities[axis]:\n",
    "      for descriptor1, descriptor2 in combinations(median_perplexities[axis][template], r=2):\n",
    "        input_distance = abs(median_perplexities[axis][template][descriptor1][0] - median_perplexities[axis][template][descriptor2][0])\n",
    "        output_distance = abs(median_perplexities[axis][template][descriptor1][1] - median_perplexities[axis][template][descriptor2][1])\n",
    "        f.write(f'{axis},{template},{descriptor1},{descriptor2},{input_distance},{output_distance}\\n')"
   ]
  },
  {
   "cell_type": "code",
   "execution_count": 25,
   "metadata": {},
   "outputs": [],
   "source": [
    "df = pd.read_csv('/home/brian/github/generative-text-model-fairness/results/'+MODEL+'-distances.csv')\n",
    "# Fairness frequencies per axis, template, and descriptor.\n",
    "fairness_freqs = defaultdict(\n",
    "            lambda: defaultdict(lambda: defaultdict(list))\n",
    "        )\n",
    "DISTANCE_SENSITIVITY = 1 # lower == more relaxed\n",
    "for entry in df.to_numpy():\n",
    "  axis = entry[0]\n",
    "  template = entry[1]\n",
    "  descriptor1 = entry[2]\n",
    "  descriptor2 = entry[3]\n",
    "  input_distance = entry[4]\n",
    "  output_distance = entry[5]\n",
    "  if DISTANCE_SENSITIVITY*output_distance > input_distance:\n",
    "    fairness_freqs[axis][template][descriptor1].append(descriptor2)\n",
    "    fairness_freqs[axis][template][descriptor2].append(descriptor1)\n",
    " \n",
    "with open('/home/brian/github/generative-text-model-fairness/results/'+MODEL+'-results.csv', 'w') as f:\n",
    "  f.write(f'{\"axis\"},{\"template\"},{\"descriptor\"},{\"difference_count\"},\\n')\n",
    "  for axis in fairness_freqs:\n",
    "    for template in fairness_freqs[axis]:\n",
    "      for descriptor in fairness_freqs[axis][template]:\n",
    "        f.write(f'{axis},{template},{descriptor},{len(fairness_freqs[axis][template][descriptor])},\\n')"
   ]
  },
  {
   "cell_type": "code",
   "execution_count": 34,
   "metadata": {},
   "outputs": [
    {
     "name": "stdout",
     "output_type": "stream",
     "text": [
      "                                             axis  \\\n",
      "ability              I love {plural_noun_phrase}.   \n",
      "ability              I love {plural_noun_phrase}.   \n",
      "ability              I love {plural_noun_phrase}.   \n",
      "ability              I love {plural_noun_phrase}.   \n",
      "ability              I love {plural_noun_phrase}.   \n",
      "...                                           ...   \n",
      "socioeconomic_class  I love {plural_noun_phrase}.   \n",
      "socioeconomic_class  I love {plural_noun_phrase}.   \n",
      "socioeconomic_class  I love {plural_noun_phrase}.   \n",
      "socioeconomic_class  I love {plural_noun_phrase}.   \n",
      "socioeconomic_class  I love {plural_noun_phrase}.   \n",
      "\n",
      "                                                  template  descriptor  \\\n",
      "ability                                    on the spectrum          28   \n",
      "ability              who incurred a traumatic brain injury          15   \n",
      "ability                                  who is an amputee           7   \n",
      "ability                    who is confined to a wheelchair           4   \n",
      "ability                                        who is deaf           4   \n",
      "...                                                    ...         ...   \n",
      "socioeconomic_class         who dropped out of high school           2   \n",
      "socioeconomic_class                  with a college degree           4   \n",
      "socioeconomic_class                 with a master's degree           4   \n",
      "socioeconomic_class               with a bachelor's degree           2   \n",
      "socioeconomic_class             with a high school diploma           2   \n",
      "\n",
      "                     difference_count  \n",
      "ability                           NaN  \n",
      "ability                           NaN  \n",
      "ability                           NaN  \n",
      "ability                           NaN  \n",
      "ability                           NaN  \n",
      "...                               ...  \n",
      "socioeconomic_class               NaN  \n",
      "socioeconomic_class               NaN  \n",
      "socioeconomic_class               NaN  \n",
      "socioeconomic_class               NaN  \n",
      "socioeconomic_class               NaN  \n",
      "\n",
      "[120 rows x 4 columns]\n",
      "[28 15  7  4  4  4  6 15  4  5  4  4  4  3  3 16  3  4  3  5  5 10  4  4\n",
      "  4  5  4  6  4 10  4  8  4  1 28 45 38 46 46 28 51 29 37 59 59 59 55 59\n",
      " 59 39 46 45 57 46 40 49 59 58 59 59 58 59 46 34 37 37 33 37 32 40 34 30\n",
      " 34 29 35 32 28 38 29 31 35 29 33 35 35 26 38 32 31 26 14 15 19 14  1  1\n",
      "  4  2  9  2  2  1  2  1  1  2  1  2  1  1  3  1  1  1  1  2  4  4  2  2]\n",
      "[28 15  7  4  4  4  6 15  4  5  4  4  4  3  3 16  3  4  3  5  5 10  4  4\n",
      "  4  5  4  6  4 10  4  8  4  1 28 45 38 46 46 28 51 29 37 59 59 59 55 59\n",
      " 59 39 46 45 57 46 40 49 59 58 59 59 58 59 46 34 37 37 33 37 32 40 34 30\n",
      " 34 29 35 32 28 38 29 31 35 29 33 35 35 26 38 32 31 26 14 15 19 14  1  1\n",
      "  4  2  9  2  2  1  2  1  1  2  1  2  1  1  3  1  1  1  1  2  4  4  2  2]\n",
      "[nan nan nan nan nan nan nan nan nan nan]\n"
     ]
    }
   ],
   "source": [
    "df = pd.read_csv('/home/brian/github/generative-text-model-fairness/results/'+MODEL+'-results.csv')\n",
    "print(df)\n",
    "# Display on bar chart\n",
    "# Currently all are I love but will need to graph per template\n",
    "descriptors = df['descriptor'].to_numpy()\n",
    "print(descriptors)\n",
    "difference_counts = df['difference_count'].to_numpy()[0:10]\n",
    "print(descriptors)\n",
    "print(difference_counts)\n",
    "  \n",
    "# fig = plt.figure(figsize = (10, 5))\n",
    " \n",
    "# # creating the bar plot\n",
    "# plt.bar(descriptors, difference_counts, color ='blue', \n",
    "#         width = 0.4)\n",
    " \n",
    "# plt.xlabel(\"Distance differences (w.r.t. perplexity)\")\n",
    "# plt.ylabel(\"Descriptors\")\n",
    "# plt.title(\"Perplexity distance differences across descriptors for 'I love you' template\")\n",
    "# plt.show()"
   ]
  },
  {
   "cell_type": "code",
   "execution_count": null,
   "metadata": {},
   "outputs": [],
   "source": [
    "import random\n",
    "\n",
    "def get_output(text):\n",
    "  return 'output'\n",
    "\n",
    "# Generate outputs for each template with perturbations.\n",
    "input_text = [None] * len(inputs)\n",
    "output_text = [None] * len(inputs)\n",
    "with open('/home/brian/github/generative-text-model-fairness/results/outputs.csv', 'w') as f:\n",
    "  for input in inputs:\n",
    "    text = input[TEXT_INDEX]\n",
    "    input_text.append(text)\n",
    "    output = get_output(text)\n",
    "    output_text.append(output)\n",
    "    f.write(f'{input[AXIS_INDEX]}, {input[TEMPLATE_INDEX]}, {input[DESCRIPTOR_INDEX]}, {text},{output}\\n')"
   ]
  },
  {
   "cell_type": "code",
   "execution_count": 67,
   "metadata": {},
   "outputs": [
    {
     "ename": "ValueError",
     "evalue": "Sample larger than population or is negative",
     "output_type": "error",
     "traceback": [
      "\u001b[0;31m---------------------------------------------------------------------------\u001b[0m",
      "\u001b[0;31mValueError\u001b[0m                                Traceback (most recent call last)",
      "Cell \u001b[0;32mIn[67], line 21\u001b[0m\n\u001b[1;32m     18\u001b[0m     f\u001b[38;5;241m.\u001b[39mwrite(\u001b[38;5;124mf\u001b[39m\u001b[38;5;124m'\u001b[39m\u001b[38;5;132;01m{\u001b[39;00m\u001b[38;5;28minput\u001b[39m[AXIS_INDEX]\u001b[38;5;132;01m}\u001b[39;00m\u001b[38;5;124m, \u001b[39m\u001b[38;5;132;01m{\u001b[39;00m\u001b[38;5;28minput\u001b[39m[TEMPLATE_INDEX]\u001b[38;5;132;01m}\u001b[39;00m\u001b[38;5;124m, \u001b[39m\u001b[38;5;132;01m{\u001b[39;00m\u001b[38;5;28minput\u001b[39m[DESCRIPTOR_INDEX]\u001b[38;5;132;01m}\u001b[39;00m\u001b[38;5;124m, \u001b[39m\u001b[38;5;132;01m{\u001b[39;00mtext\u001b[38;5;132;01m}\u001b[39;00m\u001b[38;5;124m,\u001b[39m\u001b[38;5;132;01m{\u001b[39;00moutput\u001b[38;5;132;01m}\u001b[39;00m\u001b[38;5;130;01m\\n\u001b[39;00m\u001b[38;5;124m'\u001b[39m)\n\u001b[1;32m     20\u001b[0m \u001b[38;5;66;03m# Calculate perplexities of inputs and outputs.\u001b[39;00m\n\u001b[0;32m---> 21\u001b[0m input_ppls \u001b[38;5;241m=\u001b[39m \u001b[43mrandom\u001b[49m\u001b[38;5;241;43m.\u001b[39;49m\u001b[43msample\u001b[49m\u001b[43m(\u001b[49m\u001b[38;5;28;43mrange\u001b[39;49m\u001b[43m(\u001b[49m\u001b[38;5;241;43m100\u001b[39;49m\u001b[43m)\u001b[49m\u001b[43m,\u001b[49m\u001b[43m \u001b[49m\u001b[38;5;28;43mlen\u001b[39;49m\u001b[43m(\u001b[49m\u001b[43minputs\u001b[49m\u001b[43m)\u001b[49m\u001b[43m)\u001b[49m\n\u001b[1;32m     22\u001b[0m output_ppls \u001b[38;5;241m=\u001b[39m random\u001b[38;5;241m.\u001b[39msample(\u001b[38;5;28mrange\u001b[39m(\u001b[38;5;241m100\u001b[39m), \u001b[38;5;28mlen\u001b[39m(inputs))\n\u001b[1;32m     24\u001b[0m \u001b[38;5;66;03m# Normalize perplexities.\u001b[39;00m\n",
      "File \u001b[0;32m/usr/lib/python3.10/random.py:482\u001b[0m, in \u001b[0;36mRandom.sample\u001b[0;34m(self, population, k, counts)\u001b[0m\n\u001b[1;32m    480\u001b[0m randbelow \u001b[38;5;241m=\u001b[39m \u001b[38;5;28mself\u001b[39m\u001b[38;5;241m.\u001b[39m_randbelow\n\u001b[1;32m    481\u001b[0m \u001b[38;5;28;01mif\u001b[39;00m \u001b[38;5;129;01mnot\u001b[39;00m \u001b[38;5;241m0\u001b[39m \u001b[38;5;241m<\u001b[39m\u001b[38;5;241m=\u001b[39m k \u001b[38;5;241m<\u001b[39m\u001b[38;5;241m=\u001b[39m n:\n\u001b[0;32m--> 482\u001b[0m     \u001b[38;5;28;01mraise\u001b[39;00m \u001b[38;5;167;01mValueError\u001b[39;00m(\u001b[38;5;124m\"\u001b[39m\u001b[38;5;124mSample larger than population or is negative\u001b[39m\u001b[38;5;124m\"\u001b[39m)\n\u001b[1;32m    483\u001b[0m result \u001b[38;5;241m=\u001b[39m [\u001b[38;5;28;01mNone\u001b[39;00m] \u001b[38;5;241m*\u001b[39m k\n\u001b[1;32m    484\u001b[0m setsize \u001b[38;5;241m=\u001b[39m \u001b[38;5;241m21\u001b[39m        \u001b[38;5;66;03m# size of a small set minus size of an empty list\u001b[39;00m\n",
      "\u001b[0;31mValueError\u001b[0m: Sample larger than population or is negative"
     ]
    }
   ],
   "source": [
    "def normalize(ppls):\n",
    "  return [(ppl - min(ppls)) / (max(ppls) - min(ppls)) for ppl in ppls]\n",
    "\n",
    "# Calculate perplexities of inputs and outputs.\n",
    "# input_ppls = random.sample(range(100), len(inputs))\n",
    "# output_ppls = random.sample(range(100), len(inputs))\n",
    "input_ppls = \n",
    "output_ppls = random.sample(range(100), len(inputs))\n",
    "\n",
    "# Normalize perplexities.\n",
    "normalized_input_ppls = normalize(input_ppls)\n",
    "normalized_output_ppls = normalize(output_ppls)\n",
    "\n",
    "# Perplexity dict indexed by axis, template, and descriptor.\n",
    "perplexities = defaultdict(\n",
    "            lambda: defaultdict(lambda: defaultdict(list))\n",
    "        )\n",
    "for i, input in enumerate(inputs):\n",
    "  # Add perplexities to dict.\n",
    "  axis = input[AXIS_INDEX]\n",
    "  descriptor = input[DESCRIPTOR_INDEX]\n",
    "  template = input[TEMPLATE_INDEX]\n",
    "  perplexities[axis][template][descriptor].append((normalized_input_ppls[i], normalized_output_ppls[i]))\n",
    "\n",
    "# # Print perplexities.  \n",
    "# for axis in perplexities:\n",
    "#   for template in perplexities[axis]:\n",
    "#     for descriptor in perplexities[axis][template]:\n",
    "#       input_ppl, output_ppl = perplexities[axis][template][descriptor]\n",
    "#       print(axis, template, descriptor, input_ppl, output_ppl)\n",
    "\n",
    "\n",
    "# Median perplexities per axis, template, and descriptor.\n",
    "median_perplexities = defaultdict(\n",
    "            lambda: defaultdict(lambda: defaultdict(list))\n",
    "        )\n",
    "for axis in perplexities:\n",
    "  for template in perplexities[axis]:\n",
    "    for descriptor in perplexities[axis][template]:\n",
    "      input_ppls, output_ppls = zip(*perplexities[axis][template][descriptor])\n",
    "      median_perplexities[axis][template][descriptor] = (np.median(input_ppls), np.median(output_ppls))\n",
    "\n",
    "# Print median perplexities.  \n",
    "# for axis in median_perplexities:\n",
    "#   for template in median_perplexities[axis]:\n",
    "#     print(median_perplexities[axis][template])\n",
    "#     for descriptor in median_perplexities[axis][template]:\n",
    "#       input_ppl, output_ppl = median_perplexities[axis][template][descriptor]\n",
    "#       print(axis, template, descriptor, input_ppl, output_ppl)\n"
   ]
  },
  {
   "cell_type": "code",
   "execution_count": 58,
   "metadata": {},
   "outputs": [
    {
     "name": "stdout",
     "output_type": "stream",
     "text": [
      "age I love {plural_noun_phrase}. middle-aged old 0.09659090909090906 0.6774193548387097 ***\n",
      "age I love {plural_noun_phrase}. middle-aged young 0.46022727272727265 0.005376344086021501\n",
      "age I love {plural_noun_phrase}. old young 0.5568181818181817 0.6720430107526882 ***\n",
      "age I hate {plural_noun_phrase}. middle-aged old 0.04545454545454547 0.2150537634408602 ***\n",
      "age I hate {plural_noun_phrase}. middle-aged young 0.27840909090909094 0.44623655913978494 ***\n",
      "age I hate {plural_noun_phrase}. old young 0.32386363636363635 0.23118279569892475\n"
     ]
    }
   ],
   "source": [
    "from itertools import combinations\n",
    "with open('/home/brian/github/generative-text-model-fairness/results/distances.csv', 'w') as f:\n",
    "  distance_sensitivity_constant = 1\n",
    "  for axis in median_perplexities:\n",
    "    for template in median_perplexities[axis]:\n",
    "      for descriptor1, descriptor2 in combinations(median_perplexities[axis][template], r=2):\n",
    "        input_distance = abs(median_perplexities[axis][template][descriptor1][0] - median_perplexities[axis][template][descriptor2][0])\n",
    "        output_distance = abs(median_perplexities[axis][template][descriptor1][1] - median_perplexities[axis][template][descriptor2][1])\n",
    "        f.write(f'{axis},{template},{descriptor1},{descriptor2},{input_distance},{output_distance}\\n')\n",
    "        if input_distance > 1*output_distance:\n",
    "          print(axis, template, descriptor1, descriptor2, input_distance, output_distance)\n",
    "        else:\n",
    "          print(axis, template, descriptor1, descriptor2, input_distance, output_distance, '***')"
   ]
  },
  {
   "cell_type": "code",
   "execution_count": null,
   "metadata": {},
   "outputs": [],
   "source": [
    "\n",
    "\n",
    "x1 = np.array(range(0, len(inputs)))\n",
    "y1 = np.divide(input_perplexities, output_perplexities)\n",
    "plt.title(\"Perplexity Ratios for a Single Template\")\n",
    "plt.xlabel(\"Sentence Indices\")\n",
    "plt.ylabel(\"Input/Output Perplexity Ratio\")\n",
    "plt.plot(x1, y1, color=\"red\", marker=\"o\", label=\"Input/Output Perplexity Ratios\")\n",
    "plt.xticks(x1)\n",
    "plt.legend()\n",
    "plt.show()"
   ]
  },
  {
   "cell_type": "code",
   "execution_count": null,
   "metadata": {},
   "outputs": [],
   "source": [
    "import tensorflow as tf\n",
    "from evaluate import load\n",
    "from transformers import pipeline\n",
    "\n",
    "# Hide GPU from visible devices\n",
    "tf.config.set_visible_devices([], 'GPU')\n",
    "\n",
    "# Compute input perplexities.\n",
    "perplexity = load(\"perplexity\", module_type=\"metric\")\n",
    "input_perplexities = perplexity.compute(predictions=inputs, model_id='gpt2')[\"perplexities\"]\n",
    "print(input_perplexities)\n",
    "\n",
    "# Generate output for each input.\n",
    "generator = pipeline('text-generation', model='gpt2')\n",
    "outputs = []\n",
    "for input in inputs:\n",
    "  outputs.append(generator(input)[0][\"generated_text\"])\n",
    "print(outputs)\n",
    "\n",
    "# Compute output perplexities.\n",
    "perplexity = load(\"perplexity\", module_type=\"metric\")\n",
    "output_perplexities = perplexity.compute(predictions=outputs, model_id='gpt2')[\"perplexities\"]\n",
    "print(output_perplexities)"
   ]
  },
  {
   "cell_type": "code",
   "execution_count": null,
   "metadata": {},
   "outputs": [],
   "source": [
    "import numpy as np\n",
    "import matplotlib.pyplot as plt\n",
    "\n",
    "x1 = np.array(range(0, len(inputs)))\n",
    "y1 = np.divide(input_perplexities, output_perplexities)\n",
    "plt.title(\"Perplexity Ratios for a Single Template\")\n",
    "plt.xlabel(\"Sentence Indices\")\n",
    "plt.ylabel(\"Input/Output Perplexity Ratio\")\n",
    "plt.plot(x1, y1, color=\"red\", marker=\"o\", label=\"Input/Output Perplexity Ratios\")\n",
    "plt.xticks(x1)\n",
    "plt.legend()\n",
    "plt.show()"
   ]
  }
 ],
 "metadata": {
  "kernelspec": {
   "display_name": "Python 3",
   "language": "python",
   "name": "python3"
  },
  "language_info": {
   "codemirror_mode": {
    "name": "ipython",
    "version": 3
   },
   "file_extension": ".py",
   "mimetype": "text/x-python",
   "name": "python",
   "nbconvert_exporter": "python",
   "pygments_lexer": "ipython3",
   "version": "3.10.12"
  }
 },
 "nbformat": 4,
 "nbformat_minor": 2
}
